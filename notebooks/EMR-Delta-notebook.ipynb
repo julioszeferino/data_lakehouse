{
 "cells": [
  {
   "cell_type": "markdown",
   "id": "1e2b01dc-8085-4514-834c-bfe2b7763360",
   "metadata": {},
   "source": [
    "# Trabalhando com tabelas Delta\n"
   ]
  },
  {
   "cell_type": "code",
   "execution_count": 1,
   "id": "63cfa6a1-29b4-4b69-bb0c-611d885a448b",
   "metadata": {
    "execution": {
     "iopub.execute_input": "2022-11-02T20:05:47.596166Z",
     "iopub.status.busy": "2022-11-02T20:05:47.595880Z",
     "iopub.status.idle": "2022-11-02T20:06:17.558992Z",
     "shell.execute_reply": "2022-11-02T20:06:17.558395Z",
     "shell.execute_reply.started": "2022-11-02T20:05:47.596136Z"
    }
   },
   "outputs": [
    {
     "data": {
      "application/vnd.jupyter.widget-view+json": {
       "model_id": "49ce8e8e895a4ebd958862b32637f0b7",
       "version_major": 2,
       "version_minor": 0
      },
      "text/plain": [
       "VBox()"
      ]
     },
     "metadata": {},
     "output_type": "display_data"
    },
    {
     "name": "stdout",
     "output_type": "stream",
     "text": [
      "Starting Spark application\n"
     ]
    },
    {
     "data": {
      "text/html": [
       "<table>\n",
       "<tr><th>ID</th><th>YARN Application ID</th><th>Kind</th><th>State</th><th>Spark UI</th><th>Driver log</th><th>Current session?</th></tr><tr><td>0</td><td>application_1667418425685_0004</td><td>pyspark</td><td>idle</td><td><a target=\"_blank\" href=\"http://ip-172-31-14-163.us-east-2.compute.internal:20888/proxy/application_1667418425685_0004/\" class=\"emr-proxy-link\" emr-resource=\"j-3SIBLQ4ZM31U8\n",
       "\" application-id=\"application_1667418425685_0004\">Link</a></td><td><a target=\"_blank\" href=\"http://ip-172-31-11-52.us-east-2.compute.internal:8042/node/containerlogs/container_1667418425685_0004_01_000001/livy\" >Link</a></td><td>✔</td></tr></table>"
      ],
      "text/plain": [
       "<IPython.core.display.HTML object>"
      ]
     },
     "metadata": {},
     "output_type": "display_data"
    },
    {
     "data": {
      "application/vnd.jupyter.widget-view+json": {
       "model_id": "",
       "version_major": 2,
       "version_minor": 0
      },
      "text/plain": [
       "FloatProgress(value=0.0, bar_style='info', description='Progress:', layout=Layout(height='25px', width='50%'),…"
      ]
     },
     "metadata": {},
     "output_type": "display_data"
    },
    {
     "name": "stdout",
     "output_type": "stream",
     "text": [
      "SparkSession available as 'spark'.\n"
     ]
    },
    {
     "data": {
      "application/vnd.jupyter.widget-view+json": {
       "model_id": "",
       "version_major": 2,
       "version_minor": 0
      },
      "text/plain": [
       "FloatProgress(value=0.0, bar_style='info', description='Progress:', layout=Layout(height='25px', width='50%'),…"
      ]
     },
     "metadata": {},
     "output_type": "display_data"
    }
   ],
   "source": [
    "import pyspark"
   ]
  },
  {
   "cell_type": "code",
   "execution_count": 2,
   "id": "32a85986-c09e-42cb-974d-66d42438f8e1",
   "metadata": {
    "execution": {
     "iopub.execute_input": "2022-11-02T20:08:31.319364Z",
     "iopub.status.busy": "2022-11-02T20:08:31.319137Z",
     "iopub.status.idle": "2022-11-02T20:09:21.215807Z",
     "shell.execute_reply": "2022-11-02T20:09:21.215157Z",
     "shell.execute_reply.started": "2022-11-02T20:08:31.319339Z"
    }
   },
   "outputs": [
    {
     "name": "stdout",
     "output_type": "stream",
     "text": [
      "Starting Spark application\n"
     ]
    },
    {
     "data": {
      "text/html": [
       "<table>\n",
       "<tr><th>ID</th><th>YARN Application ID</th><th>Kind</th><th>State</th><th>Spark UI</th><th>Driver log</th><th>Current session?</th></tr><tr><td>1</td><td>application_1667418425685_0005</td><td>pyspark</td><td>idle</td><td><a target=\"_blank\" href=\"http://ip-172-31-14-163.us-east-2.compute.internal:20888/proxy/application_1667418425685_0005/\" class=\"emr-proxy-link\" emr-resource=\"j-3SIBLQ4ZM31U8\n",
       "\" application-id=\"application_1667418425685_0005\">Link</a></td><td><a target=\"_blank\" href=\"http://ip-172-31-11-52.us-east-2.compute.internal:8042/node/containerlogs/container_1667418425685_0005_01_000001/livy\" >Link</a></td><td>✔</td></tr></table>"
      ],
      "text/plain": [
       "<IPython.core.display.HTML object>"
      ]
     },
     "metadata": {},
     "output_type": "display_data"
    },
    {
     "data": {
      "application/vnd.jupyter.widget-view+json": {
       "model_id": "",
       "version_major": 2,
       "version_minor": 0
      },
      "text/plain": [
       "FloatProgress(value=0.0, bar_style='info', description='Progress:', layout=Layout(height='25px', width='50%'),…"
      ]
     },
     "metadata": {},
     "output_type": "display_data"
    },
    {
     "name": "stdout",
     "output_type": "stream",
     "text": [
      "SparkSession available as 'spark'.\n"
     ]
    },
    {
     "data": {
      "text/html": [
       "Current session configs: <tt>{'conf': {'spark.jars.packages': 'io.delta:delta-core_2.12:1.0.0', 'spark.sql.extensions': 'io.delta.sql.DeltaSparkSessionExtension', 'spark.sql.catalog.spark_catalog': 'org.apache.spark.sql.delta.catalog.DeltaCatalog'}, 'proxyUser': 'user_julio_zeferino', 'kind': 'pyspark'}</tt><br>"
      ],
      "text/plain": [
       "<IPython.core.display.HTML object>"
      ]
     },
     "metadata": {},
     "output_type": "display_data"
    },
    {
     "data": {
      "text/html": [
       "<table>\n",
       "<tr><th>ID</th><th>YARN Application ID</th><th>Kind</th><th>State</th><th>Spark UI</th><th>Driver log</th><th>Current session?</th></tr><tr><td>1</td><td>application_1667418425685_0005</td><td>pyspark</td><td>idle</td><td><a target=\"_blank\" href=\"http://ip-172-31-14-163.us-east-2.compute.internal:20888/proxy/application_1667418425685_0005/\" class=\"emr-proxy-link\" emr-resource=\"j-3SIBLQ4ZM31U8\n",
       "\" application-id=\"application_1667418425685_0005\">Link</a></td><td><a target=\"_blank\" href=\"http://ip-172-31-11-52.us-east-2.compute.internal:8042/node/containerlogs/container_1667418425685_0005_01_000001/livy\" >Link</a></td><td>✔</td></tr></table>"
      ],
      "text/plain": [
       "<IPython.core.display.HTML object>"
      ]
     },
     "metadata": {},
     "output_type": "display_data"
    }
   ],
   "source": [
    "%%configure -f\n",
    "{\n",
    "    \"conf\": {\n",
    "        \"spark.jars.packages\": \"io.delta:delta-core_2.12:1.0.0\", \n",
    "        \"spark.sql.extensions\": \"io.delta.sql.DeltaSparkSessionExtension\", \n",
    "        \"spark.sql.catalog.spark_catalog\": \"org.apache.spark.sql.delta.catalog.DeltaCatalog\"\n",
    "    }\n",
    "}"
   ]
  },
  {
   "cell_type": "code",
   "execution_count": 4,
   "id": "6738418a-3318-4b6d-8086-88e006e7b130",
   "metadata": {
    "execution": {
     "iopub.execute_input": "2022-11-02T20:09:32.570399Z",
     "iopub.status.busy": "2022-11-02T20:09:32.570161Z",
     "iopub.status.idle": "2022-11-02T20:09:32.845778Z",
     "shell.execute_reply": "2022-11-02T20:09:32.845159Z",
     "shell.execute_reply.started": "2022-11-02T20:09:32.570373Z"
    }
   },
   "outputs": [
    {
     "data": {
      "application/vnd.jupyter.widget-view+json": {
       "model_id": "309114263dce44db87ba261d6ef7fbb2",
       "version_major": 2,
       "version_minor": 0
      },
      "text/plain": [
       "VBox()"
      ]
     },
     "metadata": {},
     "output_type": "display_data"
    },
    {
     "data": {
      "application/vnd.jupyter.widget-view+json": {
       "model_id": "",
       "version_major": 2,
       "version_minor": 0
      },
      "text/plain": [
       "FloatProgress(value=0.0, bar_style='info', description='Progress:', layout=Layout(height='25px', width='50%'),…"
      ]
     },
     "metadata": {},
     "output_type": "display_data"
    }
   ],
   "source": [
    "from delta.tables import *"
   ]
  },
  {
   "cell_type": "code",
   "execution_count": 5,
   "id": "75aa7dca-f128-49bf-a519-2310a6fe72be",
   "metadata": {
    "execution": {
     "iopub.execute_input": "2022-11-02T20:10:45.827846Z",
     "iopub.status.busy": "2022-11-02T20:10:45.827615Z",
     "iopub.status.idle": "2022-11-02T20:11:11.256421Z",
     "shell.execute_reply": "2022-11-02T20:11:11.255793Z",
     "shell.execute_reply.started": "2022-11-02T20:10:45.827820Z"
    }
   },
   "outputs": [
    {
     "data": {
      "application/vnd.jupyter.widget-view+json": {
       "model_id": "9428733cbc934b50a5f897a0e8b40f1f",
       "version_major": 2,
       "version_minor": 0
      },
      "text/plain": [
       "VBox()"
      ]
     },
     "metadata": {},
     "output_type": "display_data"
    },
    {
     "data": {
      "application/vnd.jupyter.widget-view+json": {
       "model_id": "",
       "version_major": 2,
       "version_minor": 0
      },
      "text/plain": [
       "FloatProgress(value=0.0, bar_style='info', description='Progress:', layout=Layout(height='25px', width='50%'),…"
      ]
     },
     "metadata": {},
     "output_type": "display_data"
    }
   ],
   "source": [
    "enemnovo = (\n",
    "    spark\n",
    "    .read\n",
    "    .format(\"delta\")\n",
    "    .load(\"s3://julioszeferino-datalake-projeto01-tf/staging-zone/enem/\")\n",
    ")"
   ]
  },
  {
   "cell_type": "code",
   "execution_count": 6,
   "id": "9fc71fc2-744a-4a16-b89c-7ea2125c42a0",
   "metadata": {
    "execution": {
     "iopub.execute_input": "2022-11-02T20:12:12.031919Z",
     "iopub.status.busy": "2022-11-02T20:12:12.031696Z",
     "iopub.status.idle": "2022-11-02T20:12:12.105128Z",
     "shell.execute_reply": "2022-11-02T20:12:12.104499Z",
     "shell.execute_reply.started": "2022-11-02T20:12:12.031895Z"
    },
    "tags": []
   },
   "outputs": [
    {
     "data": {
      "application/vnd.jupyter.widget-view+json": {
       "model_id": "76e91ef723a345f19fb7e706c797532a",
       "version_major": 2,
       "version_minor": 0
      },
      "text/plain": [
       "VBox()"
      ]
     },
     "metadata": {},
     "output_type": "display_data"
    },
    {
     "data": {
      "application/vnd.jupyter.widget-view+json": {
       "model_id": "",
       "version_major": 2,
       "version_minor": 0
      },
      "text/plain": [
       "FloatProgress(value=0.0, bar_style='info', description='Progress:', layout=Layout(height='25px', width='50%'),…"
      ]
     },
     "metadata": {},
     "output_type": "display_data"
    }
   ],
   "source": [
    "inscricoes = [190001595656,190001421546,190001133210,190001199383,190001237802,\n",
    "    190001782198,190001421548,190001595657,190001592264,190001592266,190001592265,190001475147,190001867756,190001133211,\n",
    "    190001237803,190001493186,190001421547,190001493187,190001210202,190001421549,190001595658,190002037437,190001421550,\n",
    "    190001595659,190001421551,190001237804,190001867757,190001184600,190001692704,190001867758,190002037438,190001595660,\n",
    "    190001237805,190001705260,190001421552,190001867759,190001595661,190001042834,190001237806,190001595662,190001421553,\n",
    "    190001475148,190001421554,190001493188,190002037439,190001421555,190001480442,190001493189,190001705261,190001421556]"
   ]
  },
  {
   "cell_type": "code",
   "execution_count": 11,
   "id": "cf4737b0-d111-48e6-a856-731e76eea995",
   "metadata": {
    "execution": {
     "iopub.execute_input": "2022-11-02T20:13:25.868453Z",
     "iopub.status.busy": "2022-11-02T20:13:25.868223Z",
     "iopub.status.idle": "2022-11-02T20:13:31.175221Z",
     "shell.execute_reply": "2022-11-02T20:13:31.174501Z",
     "shell.execute_reply.started": "2022-11-02T20:13:25.868429Z"
    },
    "tags": []
   },
   "outputs": [
    {
     "data": {
      "application/vnd.jupyter.widget-view+json": {
       "model_id": "0a52fedfb8bd4b778883ed54c66ac8b8",
       "version_major": 2,
       "version_minor": 0
      },
      "text/plain": [
       "VBox()"
      ]
     },
     "metadata": {},
     "output_type": "display_data"
    },
    {
     "data": {
      "application/vnd.jupyter.widget-view+json": {
       "model_id": "",
       "version_major": 2,
       "version_minor": 0
      },
      "text/plain": [
       "FloatProgress(value=0.0, bar_style='info', description='Progress:', layout=Layout(height='25px', width='50%'),…"
      ]
     },
     "metadata": {},
     "output_type": "display_data"
    },
    {
     "name": "stdout",
     "output_type": "stream",
     "text": [
      "+------------+------------------+------------------+-------+\n",
      "|NU_INSCRICAO|NO_MUNICIPIO_PROVA|CO_MUNICIPIO_PROVA|TP_SEXO|\n",
      "+------------+------------------+------------------+-------+\n",
      "|190001023243|            Cacoal|           1100049|      F|\n",
      "|190001023288|       Porto Velho|           1100205|      F|\n",
      "|190001023632|            Cacoal|           1100049|      F|\n",
      "|190001023750|       Porto Velho|           1100205|      F|\n",
      "|190001024077|       Porto Velho|           1100205|      F|\n",
      "|190001024360|         Ji-Paran�|           1100122|      M|\n",
      "|190001024414|         Ji-Paran�|           1100122|      F|\n",
      "|190001024425|       Porto Velho|           1100205|      M|\n",
      "|190001024559|           Vilhena|           1100304|      F|\n",
      "|190001024624|       Porto Velho|           1100205|      F|\n",
      "|190001024737|           Vilhena|           1100304|      F|\n",
      "|190001024753|         Ariquemes|           1100023|      F|\n",
      "|190001024844|       Porto Velho|           1100205|      M|\n",
      "|190001024868|       Porto Velho|           1100205|      F|\n",
      "|190001024901|  Alvorada D'Oeste|           1100346|      M|\n",
      "|190001024953|       Porto Velho|           1100205|      F|\n",
      "|190001025037|        Cerejeiras|           1100056|      M|\n",
      "|190001025190|            Cacoal|           1100049|      F|\n",
      "|190001025243|       Porto Velho|           1100205|      F|\n",
      "|190001025315|     Guajar�-Mirim|           1100106|      M|\n",
      "+------------+------------------+------------------+-------+\n",
      "only showing top 20 rows"
     ]
    }
   ],
   "source": [
    "# recuperando os dados\n",
    "(\n",
    "    enemnovo\n",
    "    .select(\"NU_INSCRICAO\", \"NO_MUNICIPIO_PROVA\", \"CO_MUNICIPIO_PROVA\", \"TP_SEXO\")\n",
    "    .show()\n",
    ")"
   ]
  },
  {
   "cell_type": "code",
   "execution_count": 12,
   "id": "004176b2-54ff-4c87-8876-121b40d46946",
   "metadata": {
    "execution": {
     "iopub.execute_input": "2022-11-02T20:16:16.038433Z",
     "iopub.status.busy": "2022-11-02T20:16:16.038197Z",
     "iopub.status.idle": "2022-11-02T20:16:21.343981Z",
     "shell.execute_reply": "2022-11-02T20:16:21.343276Z",
     "shell.execute_reply.started": "2022-11-02T20:16:16.038409Z"
    }
   },
   "outputs": [
    {
     "data": {
      "application/vnd.jupyter.widget-view+json": {
       "model_id": "73413c5e9def41edb67a0802d2d11c90",
       "version_major": 2,
       "version_minor": 0
      },
      "text/plain": [
       "VBox()"
      ]
     },
     "metadata": {},
     "output_type": "display_data"
    },
    {
     "data": {
      "application/vnd.jupyter.widget-view+json": {
       "model_id": "",
       "version_major": 2,
       "version_minor": 0
      },
      "text/plain": [
       "FloatProgress(value=0.0, bar_style='info', description='Progress:', layout=Layout(height='25px', width='50%'),…"
      ]
     },
     "metadata": {},
     "output_type": "display_data"
    },
    {
     "name": "stdout",
     "output_type": "stream",
     "text": [
      "+------------+--------------------+------------------+-------+\n",
      "|NU_INSCRICAO|  NO_MUNICIPIO_PROVA|CO_MUNICIPIO_PROVA|TP_SEXO|\n",
      "+------------+--------------------+------------------+-------+\n",
      "|190001042834|               Bel�m|           1501402|      M|\n",
      "|190001133210|           Fortaleza|           2304400|      F|\n",
      "|190001133211|           Fortaleza|           2304400|      F|\n",
      "|190001184600|              Macap�|           1600303|      M|\n",
      "|190001199383|              Palmas|           1721000|      F|\n",
      "|190001210202|     Itapecuru Mirim|           2105401|      F|\n",
      "|190001237802|            Contagem|           3118601|      F|\n",
      "|190001237803|          Uberl�ndia|           3170206|      F|\n",
      "|190001237804|          Esmeraldas|           3124104|      M|\n",
      "|190001237805|Conselheiro Lafaiete|           3118304|      F|\n",
      "|190001237806|S�o Joaquim de Bicas|           3162922|      F|\n",
      "|190001421546|    Feira de Santana|           2910800|      M|\n",
      "|190001421547|            Guanambi|           2911709|      M|\n",
      "|190001421548|        Paulo Afonso|           2924009|      F|\n",
      "|190001421549|            Salvador|           2927408|      F|\n",
      "|190001421550|            Salvador|           2927408|      M|\n",
      "|190001421551|            Jacobina|           2917508|      F|\n",
      "|190001421552|    Lauro de Freitas|           2919207|      M|\n",
      "|190001421553|            Salvador|           2927408|      F|\n",
      "|190001421554|            Salvador|           2927408|      F|\n",
      "+------------+--------------------+------------------+-------+\n",
      "only showing top 20 rows"
     ]
    }
   ],
   "source": [
    "# filtrando\n",
    "# recuperando os dados\n",
    "(\n",
    "    enemnovo\n",
    "    .select(\"NU_INSCRICAO\", \"NO_MUNICIPIO_PROVA\", \"CO_MUNICIPIO_PROVA\", \"TP_SEXO\")\n",
    "    .where(enemnovo.NU_INSCRICAO.isin(inscricoes))\n",
    "    .orderBy(\"NU_INSCRICAO\")\n",
    "    .show(20)\n",
    ")"
   ]
  },
  {
   "cell_type": "code",
   "execution_count": 13,
   "id": "66057ce7-f70c-4be7-8a1d-77854825696f",
   "metadata": {
    "execution": {
     "iopub.execute_input": "2022-11-02T20:18:14.205048Z",
     "iopub.status.busy": "2022-11-02T20:18:14.204805Z",
     "iopub.status.idle": "2022-11-02T20:18:17.510484Z",
     "shell.execute_reply": "2022-11-02T20:18:17.509820Z",
     "shell.execute_reply.started": "2022-11-02T20:18:14.205022Z"
    }
   },
   "outputs": [
    {
     "data": {
      "application/vnd.jupyter.widget-view+json": {
       "model_id": "6394822396434c648b90219a0cec4397",
       "version_major": 2,
       "version_minor": 0
      },
      "text/plain": [
       "VBox()"
      ]
     },
     "metadata": {},
     "output_type": "display_data"
    },
    {
     "data": {
      "application/vnd.jupyter.widget-view+json": {
       "model_id": "",
       "version_major": 2,
       "version_minor": 0
      },
      "text/plain": [
       "FloatProgress(value=0.0, bar_style='info', description='Progress:', layout=Layout(height='25px', width='50%'),…"
      ]
     },
     "metadata": {},
     "output_type": "display_data"
    }
   ],
   "source": [
    "enemvelho = (\n",
    "    spark\n",
    "    .read\n",
    "    .format(\"delta\")\n",
    "    .option(\"versionAsOf\", \"0\")\n",
    "    .load(\"s3://julioszeferino-datalake-projeto01-tf/staging-zone/enem/\")\n",
    ")"
   ]
  },
  {
   "cell_type": "code",
   "execution_count": null,
   "id": "ba5df28d-1131-4255-a718-c87e536d1eb0",
   "metadata": {
    "execution": {
     "iopub.execute_input": "2022-11-02T20:18:59.722305Z",
     "iopub.status.busy": "2022-11-02T20:18:59.722066Z"
    }
   },
   "outputs": [
    {
     "data": {
      "application/vnd.jupyter.widget-view+json": {
       "model_id": "1293c3de39d7400892981ae95f031fba",
       "version_major": 2,
       "version_minor": 0
      },
      "text/plain": [
       "VBox()"
      ]
     },
     "metadata": {},
     "output_type": "display_data"
    },
    {
     "data": {
      "application/vnd.jupyter.widget-view+json": {
       "model_id": "be05bbd9a3b94185a7eb6e7f48650493",
       "version_major": 2,
       "version_minor": 0
      },
      "text/plain": [
       "FloatProgress(value=0.0, bar_style='info', description='Progress:', layout=Layout(height='25px', width='50%'),…"
      ]
     },
     "metadata": {},
     "output_type": "display_data"
    }
   ],
   "source": [
    "print(f\"enemnovo possui {enemnovo.count()} linhas\")\n",
    "print(f\"enemvelho possui {enemvelho.count()} linhas\")"
   ]
  },
  {
   "cell_type": "code",
   "execution_count": null,
   "id": "27225250-1edf-4250-9eb0-812db3081e40",
   "metadata": {},
   "outputs": [],
   "source": []
  }
 ],
 "metadata": {
  "kernelspec": {
   "display_name": "PySpark",
   "language": "",
   "name": "pysparkkernel"
  },
  "language_info": {
   "codemirror_mode": {
    "name": "python",
    "version": 3
   },
   "mimetype": "text/x-python",
   "name": "pyspark",
   "pygments_lexer": "python3"
  }
 },
 "nbformat": 4,
 "nbformat_minor": 5
}
